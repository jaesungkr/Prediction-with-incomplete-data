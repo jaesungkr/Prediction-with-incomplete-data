{
 "cells": [
  {
   "cell_type": "code",
   "execution_count": 1,
   "metadata": {},
   "outputs": [],
   "source": [
    "import pandas as pd\n",
    "import numpy as np\n",
    "import matplotlib.pyplot as plt  \n",
    "import seaborn as seabornInstance \n",
    "from sklearn.model_selection import train_test_split \n",
    "from sklearn.linear_model import RidgeCV, LinearRegression\n",
    "from sklearn import metrics\n",
    "import sys\n",
    "import copy\n",
    "import statsmodels.api as sm\n",
    "pd.options.mode.chained_assignment = None\n",
    "from statsmodels.stats.outliers_influence import variance_inflation_factor\n",
    "pd.options.display.max_rows = 4000\n",
    "pd.options.display.max_seq_items = 2000\n",
    "%matplotlib inline\n",
    "\n",
    "dfTemp=pd.read_csv(r'C:\\Users\\Jaesung Park\\Desktop\\FP\\GroupProject\\final.csv',keep_default_na=False)"
   ]
  },
  {
   "cell_type": "code",
   "execution_count": 2,
   "metadata": {},
   "outputs": [],
   "source": [
    "dataset = pd.get_dummies(dfTemp, drop_first=True)\n",
    "dataset = dataset[dataset.columns.difference(['PID','Order','Total Bsmt SF'])]\n",
    "# mix the dataset\n",
    "dataset = dataset.reindex(np.random.permutation(dataset.index))\n",
    "\n",
    "five = [] # 4 in. 5 percent\n",
    "for i in range(len(dataset.columns)):\n",
    "    if dataset.columns[i] not in ([ 'Exterior 1st_HdBoard',\n",
    "       'Exterior 1st_MetalSd', 'Exterior 1st_Plywood', 'Exterior 1st_VinylSd',\n",
    "       'Exterior 1st_Wd Sdng', 'Exterior 1st_other','Lot Area','Mo Sold','Yr Sold','SalePrice']):\n",
    "        five.append(dataset.columns[i])\n",
    "\n",
    "\n",
    "fifthteen = [] # 12 in. 15 percent\n",
    "for i in range(len(dataset.columns)):\n",
    "    if dataset.columns[i] not in (['Exterior 1st_HdBoard',\n",
    "       'Exterior 1st_MetalSd', 'Exterior 1st_Plywood', 'Exterior 1st_VinylSd',\n",
    "       'Exterior 1st_Wd Sdng', 'Exterior 1st_other','Lot Area','Mo Sold','Yr Sold','Pool Area','Year Remod/Add','Bedroom AbvGr', 'Bldg Type_Duplex', 'Bldg Type_Twnhs',\n",
    "       'Bldg Type_TwnhsE', 'Bldg Type_other','Fireplaces', 'House Style_1Story', 'House Style_2Story', 'House Style_SLvl',\n",
    "       'House Style_other', 'Sale Condition_Normal', 'Sale Condition_Partial',\n",
    "       'Sale Condition_other','Roof Style_Hip',\n",
    "       'Roof Style_other','SalePrice']):\n",
    "        fifthteen.append(dataset.columns[i])\n",
    "        \n",
    "thirty = [] # 24 in. 30 percent\n",
    "for i in range(len(dataset.columns)):\n",
    "    if dataset.columns[i] not in (['Exterior 1st_HdBoard',\n",
    "       'Exterior 1st_MetalSd', 'Exterior 1st_Plywood', 'Exterior 1st_VinylSd',\n",
    "       'Exterior 1st_Wd Sdng', 'Exterior 1st_other','Lot Area','Mo Sold','Yr Sold','Pool Area','Year Remod/Add','Bedroom AbvGr', 'Bldg Type_Duplex', 'Bldg Type_Twnhs',\n",
    "       'Bldg Type_TwnhsE', 'Bldg Type_other','Fireplaces', 'House Style_1Story', 'House Style_2Story', 'House Style_SLvl',\n",
    "       'House Style_other', 'Sale Condition_Normal', 'Sale Condition_Partial',\n",
    "       'Sale Condition_other','Roof Style_Hip','Roof Matl_other',\n",
    "       'Roof Style_other',  'Exter Cond_TA', 'Exter Cond_other', 'Exter Qual_Gd',\n",
    "       'Exter Qual_TA', 'Exter Qual_other', 'Heating QC_Gd',\n",
    "       'Heating QC_TA', 'Heating QC_other', 'Heating_other',\n",
    "     'Paved Drive_Y','Paved Drive_other', 'BsmtFin Type 2_Rec',\n",
    "       'BsmtFin Type 2_Unf', 'BsmtFin Type 2_other', '1st Flr SF', 'Land Slope_Mod', 'Land Slope_Sev', 'Lot Config_CulDSac', 'Lot Config_Inside', 'Lot Config_other',\n",
    "      'Foundation_CBlock', 'Foundation_PConc', 'Foundation_other', 'MS SubClass_160', 'MS SubClass_20', 'MS SubClass_30', 'MS SubClass_50',\n",
    "       'MS SubClass_60', 'MS SubClass_70', 'MS SubClass_other', 'Low Qual Fin SF','SalePrice']):\n",
    "        thirty.append(dataset.columns[i])\n",
    "        \n",
    "half = [] # 반타작 39\n",
    "for i in range(len(dataset.columns)):\n",
    "       if dataset.columns[i] not in (['Exterior 1st_HdBoard',\n",
    "       'Exterior 1st_MetalSd', 'Exterior 1st_Plywood', 'Exterior 1st_VinylSd',\n",
    "       'Exterior 1st_Wd Sdng', 'Exterior 1st_other','Lot Area','Mo Sold','Yr Sold',\n",
    "        'Pool Area','Year Remod/Add','Bedroom AbvGr', 'Bldg Type_Duplex', 'Bldg Type_Twnhs',\n",
    "       'Bldg Type_TwnhsE', 'Bldg Type_other','Fireplaces', 'House Style_1Story',\n",
    "        'House Style_2Story', 'House Style_SLvl',\n",
    "       'House Style_other', 'Sale Condition_Normal', 'Sale Condition_Partial',\n",
    "       'Sale Condition_other','Roof Style_Hip','Roof Matl_other',\n",
    "       'Roof Style_other',  'Exter Cond_TA', 'Exter Cond_other', 'Exter Qual_Gd',\n",
    "       'Exter Qual_TA', 'Exter Qual_other', 'Heating QC_Gd',\n",
    "       'Heating QC_TA', 'Heating QC_other', 'Heating_other',\n",
    "     'Paved Drive_Y','Paved Drive_other', 'BsmtFin Type 2_Rec',\n",
    "       'BsmtFin Type 2_Unf', 'BsmtFin Type 2_other', '1st Flr SF', 'Land Slope_Mod', \n",
    "        'Land Slope_Sev', 'Lot Config_CulDSac', 'Lot Config_Inside', 'Lot Config_other',\n",
    "      'Foundation_CBlock', 'Foundation_PConc', 'Foundation_other', 'MS SubClass_160', \n",
    "        'MS SubClass_20', 'MS SubClass_30', 'MS SubClass_50',\n",
    "       'MS SubClass_60', 'MS SubClass_70', 'MS SubClass_other', 'Low Qual Fin SF',\n",
    "        'Mas Vnr Area', 'Mas Vnr Type_None',\n",
    "       'Mas Vnr Type_Stone', 'Mas Vnr Type_other', 'Neighborhood_CollgCr', \n",
    "    'Neighborhood_Crawfor',\n",
    "       'Neighborhood_Edwards', 'Neighborhood_Gilbert', 'Neighborhood_IDOTRR',\n",
    "       'Neighborhood_Mitchel', 'Neighborhood_NAmes', 'Neighborhood_NWAmes',\n",
    "       'Neighborhood_NridgHt', 'Neighborhood_OldTown', 'Neighborhood_Sawyer',\n",
    "       'Neighborhood_SawyerW', 'Neighborhood_Somerst', 'Neighborhood_other','Open Porch SF',\n",
    "         'Garage Yr Blt', 'Gr Liv Area', 'Half Bath','Kitchen AbvGr', 'Kitchen Qual_TA',\n",
    "       'Kitchen Qual_other', 'Land Contour_HLS', 'Land Contour_Low',\n",
    "       'Land Contour_Lvl','Year Built','SalePrice']):\n",
    "        half.append(dataset.columns[i])  \n",
    "        \n",
    "seventy = [] # 55 in. 70 percent\n",
    "for i in range(len(dataset.columns)):\n",
    "    if dataset.columns[i] in (['Misc Val', 'Overall Qual', 'Utilities_other', 'Wood Deck SF', 'Condition 1_Feedr', 'Condition 1_Norm', 'Condition 1_other',\n",
    "       'Condition 2_other', 'Electrical_SBrkr', 'Electrical_other',\n",
    "       'Enclosed Porch', 'Exterior 2nd_HdBoard',\n",
    "      'Full Bath', 'Fence_other',\n",
    "       'Fireplace Qu_TA', 'Fireplace Qu_other', 'MS Zoning_RM',\n",
    "       'MS Zoning_other', '2nd Flr SF', '3Ssn Porch', 'Alley_other','BsmtFin SF 1','BsmtFin SF 2',\n",
    "        'Bsmt Cond_Gd', 'Bsmt Cond_TA',\n",
    "       'Bsmt Cond_other', 'Bsmt Exposure_Gd', 'Bsmt Exposure_Mn',\n",
    "       'Bsmt Exposure_No', 'Bsmt Exposure_other', 'Bsmt Full Bath',\n",
    "       'Bsmt Half Bath', 'Bsmt Qual_Gd', 'Bsmt Qual_TA', 'Bsmt Qual_other',\n",
    "       'Bsmt Unf SF', 'Sale Type_other']):\n",
    "        seventy.append(dataset.columns[i])\n",
    "        \n",
    "eightyfive = [] # 67 in. 85 percent\n",
    "for i in range(len(dataset.columns)):\n",
    "     if dataset.columns[i] in ([ 'Misc Val', 'Overall Qual', 'Utilities_other', 'Wood Deck SF', 'Condition 1_Feedr', 'Condition 1_Norm', 'Condition 1_other',\n",
    "       'Condition 2_other', 'Electrical_SBrkr', 'Electrical_other',\n",
    "       'Enclosed Porch', 'Exterior 2nd_HdBoard',\n",
    "      'Full Bath', 'Fence_other','Sale Type_other']):\n",
    "            eightyfive.append(dataset.columns[i])\n",
    "        \n",
    "ninetyfive = [] # 74 in. 95 percent\n",
    "for i in range(len(dataset.columns)):\n",
    "    if dataset.columns[i] in ([  'Misc Val','Overall Qual', 'Utilities_other','Sale Type_other']):\n",
    "        ninetyfive.append(dataset.columns[i])\n",
    "\n",
    "\n"
   ]
  },
  {
   "cell_type": "code",
   "execution_count": 3,
   "metadata": {},
   "outputs": [],
   "source": [
    "#regressor = LinearRegression(fit_intercept=True)\n",
    "\n",
    "alphas = [0.000001, 0.00001, 0.0001, 0.001, 0.01, 0.1,0.5, 1, 10, 15, 20, 30, 40, 100]\n",
    "regressor=RidgeCV(alphas=alphas, store_cv_values=True)\n"
   ]
  },
  {
   "cell_type": "code",
   "execution_count": 4,
   "metadata": {},
   "outputs": [
    {
     "data": {
      "text/plain": [
       "5"
      ]
     },
     "execution_count": 4,
     "metadata": {},
     "output_type": "execute_result"
    }
   ],
   "source": [
    "## exclude the lefts\n",
    "rounded = round(dataset.shape[0]/10)*10\n",
    "left = dataset.shape[0] - rounded\n",
    "left"
   ]
  },
  {
   "cell_type": "code",
   "execution_count": 5,
   "metadata": {},
   "outputs": [],
   "source": [
    "testing2 = dataset.iloc[left:]"
   ]
  },
  {
   "cell_type": "code",
   "execution_count": 6,
   "metadata": {},
   "outputs": [],
   "source": [
    "k = testing2.shape[0]\n",
    "fold = 10\n",
    "point = round(k/fold)\n",
    "mylist = []\n",
    "\n",
    "start = 0\n",
    "end= point"
   ]
  },
  {
   "cell_type": "code",
   "execution_count": 7,
   "metadata": {},
   "outputs": [],
   "source": [
    "# separating dataset into # number of folds and put each fold into list\n",
    "for i in range(fold):\n",
    "    x = testing2.iloc[start:end]\n",
    "    start = start + point\n",
    "    end = end + point\n",
    "    mylist.append(x)"
   ]
  },
  {
   "cell_type": "code",
   "execution_count": 8,
   "metadata": {},
   "outputs": [],
   "source": [
    "RidgeCV_MAE = []\n",
    "RidgeCV_MSE = []\n",
    "RidgeCV_RMSE = []\n",
    "alphasL = []\n",
    "r2_list = []\n",
    "predicted = []"
   ]
  },
  {
   "cell_type": "code",
   "execution_count": 9,
   "metadata": {},
   "outputs": [],
   "source": [
    "temp = copy.deepcopy(mylist)"
   ]
  },
  {
   "cell_type": "code",
   "execution_count": 10,
   "metadata": {},
   "outputs": [],
   "source": [
    "for j in range(fold):\n",
    "    mylist = copy.deepcopy(temp)\n",
    "    testing_set = mylist[j]\n",
    "    appended_data = []\n",
    "    for z in range(fold):\n",
    "        if not z == j:\n",
    "            appended_data.append(mylist[z])\n",
    "            \n",
    "    training_set = pd.concat(appended_data, ignore_index = True)\n",
    "    \n",
    "    \n",
    "    #mean imputation\n",
    "    for p in range(len(testing_set.columns)):\n",
    "       #if testing_set.columns[p] not in dataset.columns:\n",
    "        if testing_set.columns[p] in thirty:\n",
    "            testing_set[testing_set.columns[p]] = np.mean(training_set[training_set.columns[p]])\n",
    "           \n",
    "    \n",
    "    testing_set_X = testing_set[dataset.columns.difference(['SalePrice'])]\n",
    "    testing_set_Y = testing_set['SalePrice']\n",
    "    training_set_X = training_set[dataset.columns.difference(['SalePrice'])]\n",
    "    training_set_Y = training_set['SalePrice']\n",
    "\n",
    "    ridge_mod = regressor.fit(training_set_X, training_set_Y)\n",
    "    alphasL.append(ridge_mod.alpha_)\n",
    "    y_pred = regressor.predict(testing_set_X)\n",
    "    MAE = metrics.mean_absolute_error(testing_set_Y, y_pred)\n",
    "    MSE = metrics.mean_squared_error(testing_set_Y, y_pred)\n",
    "    RMSE = np.sqrt(metrics.mean_squared_error(testing_set_Y, y_pred))\n",
    "    r2 = metrics.r2_score(testing_set_Y, y_pred)\n",
    "    py = y_pred\n",
    "    \n",
    "    RidgeCV_MAE.append(MAE)\n",
    "    RidgeCV_MSE.append(MSE)\n",
    "    RidgeCV_RMSE.append(RMSE)\n",
    "    r2_list.append(r2)\n",
    "    predicted.append(py)\n"
   ]
  },
  {
   "cell_type": "code",
   "execution_count": 11,
   "metadata": {},
   "outputs": [
    {
     "data": {
      "text/plain": [
       "49070.55206658049"
      ]
     },
     "execution_count": 11,
     "metadata": {},
     "output_type": "execute_result"
    }
   ],
   "source": [
    "np.mean(RidgeCV_MAE)"
   ]
  },
  {
   "cell_type": "code",
   "execution_count": 12,
   "metadata": {},
   "outputs": [
    {
     "data": {
      "text/plain": [
       "4551288229.795828"
      ]
     },
     "execution_count": 12,
     "metadata": {},
     "output_type": "execute_result"
    }
   ],
   "source": [
    "np.mean(RidgeCV_MSE)"
   ]
  },
  {
   "cell_type": "code",
   "execution_count": 13,
   "metadata": {},
   "outputs": [
    {
     "data": {
      "text/plain": [
       "67254.92156756234"
      ]
     },
     "execution_count": 13,
     "metadata": {},
     "output_type": "execute_result"
    }
   ],
   "source": [
    "np.mean(RidgeCV_RMSE)"
   ]
  },
  {
   "cell_type": "code",
   "execution_count": 14,
   "metadata": {},
   "outputs": [
    {
     "data": {
      "text/plain": [
       "[10.0, 10.0, 10.0, 10.0, 10.0, 10.0, 15.0, 10.0, 15.0, 10.0]"
      ]
     },
     "execution_count": 14,
     "metadata": {},
     "output_type": "execute_result"
    }
   ],
   "source": [
    "alphasL"
   ]
  },
  {
   "cell_type": "code",
   "execution_count": 15,
   "metadata": {},
   "outputs": [
    {
     "data": {
      "text/plain": [
       "0.2814592799414356"
      ]
     },
     "execution_count": 15,
     "metadata": {},
     "output_type": "execute_result"
    }
   ],
   "source": [
    "np.mean(r2_list)"
   ]
  },
  {
   "cell_type": "code",
   "execution_count": 16,
   "metadata": {},
   "outputs": [],
   "source": [
    "cd = np.concatenate(predicted)\n",
    "ab = testing2['SalePrice']"
   ]
  },
  {
   "cell_type": "code",
   "execution_count": 17,
   "metadata": {},
   "outputs": [
    {
     "data": {
      "image/png": "[encoded data removed]",
      "text/plain": [
       "<Figure size 432x288 with 1 Axes>"
      ]
     },
     "metadata": {
      "needs_background": "light"
     },
     "output_type": "display_data"
    }
   ],
   "source": [
    "import numpy\n",
    "bins = numpy.linspace(0, 180000, 100)\n",
    "plt.hist(ab, bins, alpha=0.5, label='True Price')\n",
    "plt.hist(cd, bins, alpha=0.5, label='Predicted')\n",
    "plt.legend(loc='upper left')\n",
    "\n",
    "plt.show()"
   ]
  }
 ],
 "metadata": {
  "kernelspec": {
   "display_name": "Python 3",
   "language": "python",
   "name": "python3"
  },
  "language_info": {
   "codemirror_mode": {
    "name": "ipython",
    "version": 3
   },
   "file_extension": ".py",
   "mimetype": "text/x-python",
   "name": "python",
   "nbconvert_exporter": "python",
   "pygments_lexer": "ipython3",
   "version": "3.8.1"
  }
 },
 "nbformat": 4,
 "nbformat_minor": 4
}
