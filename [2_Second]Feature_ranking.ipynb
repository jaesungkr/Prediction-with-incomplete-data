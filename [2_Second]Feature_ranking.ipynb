{
 "cells": [
  {
   "cell_type": "code",
   "execution_count": 1,
   "metadata": {},
   "outputs": [],
   "source": [
    "import pandas as pd\n",
    "import numpy as np\n",
    "import matplotlib.pyplot as plt  \n",
    "import seaborn as seabornInstance \n",
    "from sklearn.model_selection import train_test_split \n",
    "from sklearn.linear_model import RidgeCV, LinearRegression\n",
    "from sklearn import metrics\n",
    "import sys\n",
    "import copy\n",
    "import statsmodels.api as sm\n",
    "pd.options.mode.chained_assignment = None\n",
    "from statsmodels.stats.outliers_influence import variance_inflation_factor\n",
    "pd.options.display.max_rows = 4000\n",
    "pd.options.display.max_seq_items = 2000\n",
    "%matplotlib inline\n",
    "\n",
    "dfTemp=pd.read_csv(r'C:\\Users\\Jaesung Park\\Desktop\\FP\\GroupProject\\kc_house_data.csv',keep_default_na=False)"
   ]
  },
  {
   "cell_type": "code",
   "execution_count": 2,
   "metadata": {},
   "outputs": [],
   "source": [
    "data = dfTemp\n",
    "data['date'] = pd.to_datetime(data['date'])\n",
    "data = data.set_index('id')\n",
    "data.price = data.price.astype(int)\n",
    "data.bathrooms = data.bathrooms.astype(int)\n",
    "data.floors = data.floors.astype(int)\n",
    "data[\"house_age\"] = data[\"date\"].dt.year - data['yr_built']\n",
    "data['renovated'] = data['yr_renovated'].apply(lambda yr: 0 if yr == 0 else 1)\n",
    "\n",
    "data=data.drop('date', axis=1)\n",
    "data=data.drop('yr_renovated', axis=1)\n",
    "data=data.drop('yr_built', axis=1)\n",
    "\n",
    "dataset = data[data.columns.difference(['id', 'long'])]"
   ]
  },
  {
   "cell_type": "code",
   "execution_count": 3,
   "metadata": {},
   "outputs": [],
   "source": [
    "regressor = LinearRegression(fit_intercept=True)\n",
    "\n",
    "#alphas = [0.000001, 0.00001, 0.0001, 0.001, 0.01, 0.1,0.5, 1, 10, 15, 20, 30, 40, 100]\n",
    "#regressor=RidgeCV(alphas=alphas, store_cv_values=True)\n"
   ]
  },
  {
   "cell_type": "code",
   "execution_count": 4,
   "metadata": {},
   "outputs": [],
   "source": [
    "alphasL = []\n",
    "r2_list = []\n",
    "predicted = []\n",
    "columns_name = []"
   ]
  },
  {
   "cell_type": "code",
   "execution_count": 5,
   "metadata": {},
   "outputs": [],
   "source": [
    "second = dataset[dataset.columns.difference(['price'])]"
   ]
  },
  {
   "cell_type": "code",
   "execution_count": 6,
   "metadata": {},
   "outputs": [],
   "source": [
    "for j in range(len(second.columns)):\n",
    "    mylist = copy.deepcopy(dataset)\n",
    "    appended_data = []\n",
    "    \n",
    "    \n",
    "    x_data = second[second.columns[j]].values.reshape(-1,1)\n",
    "    y_data = dataset['price']\n",
    "    x_train,x_test,y_train,y_test = train_test_split(x_data,y_data)\n",
    "  \n",
    "    testing_set_X = x_test\n",
    "    testing_set_Y = y_test\n",
    "    training_set_X = x_train\n",
    "    training_set_Y = y_train\n",
    "\n",
    "    ridge_mod = regressor.fit(training_set_X, training_set_Y)\n",
    "  #  alphasL.append(ridge_mod.alpha_)\n",
    "    y_pred = regressor.predict(testing_set_X)\n",
    "    r2 = metrics.r2_score(testing_set_Y, y_pred)\n",
    "    py = y_pred\n",
    "    \n",
    "    columns_name.append(second.columns[j])\n",
    "    r2_list.append(r2)\n",
    "    predicted.append(py)\n"
   ]
  },
  {
   "cell_type": "code",
   "execution_count": 7,
   "metadata": {},
   "outputs": [],
   "source": [
    "total = []\n",
    "for i in range(len(columns_name)):\n",
    "    total.append((r2_list[i],columns_name[i]))"
   ]
  },
  {
   "cell_type": "code",
   "execution_count": 8,
   "metadata": {},
   "outputs": [
    {
     "data": {
      "text/plain": [
       "['bathrooms',\n",
       " 'bedrooms',\n",
       " 'condition',\n",
       " 'floors',\n",
       " 'grade',\n",
       " 'house_age',\n",
       " 'lat',\n",
       " 'renovated',\n",
       " 'sqft_above',\n",
       " 'sqft_basement',\n",
       " 'sqft_living',\n",
       " 'sqft_living15',\n",
       " 'sqft_lot',\n",
       " 'sqft_lot15',\n",
       " 'view',\n",
       " 'waterfront',\n",
       " 'zipcode']"
      ]
     },
     "execution_count": 8,
     "metadata": {},
     "output_type": "execute_result"
    }
   ],
   "source": [
    "columns_name"
   ]
  },
  {
   "cell_type": "code",
   "execution_count": 9,
   "metadata": {},
   "outputs": [
    {
     "data": {
      "text/plain": [
       "[(0.4893689338999432, 'sqft_living'),\n",
       " (0.4285757815353006, 'grade'),\n",
       " (0.35724303441786665, 'sqft_above'),\n",
       " (0.3442503570400369, 'sqft_living15'),\n",
       " (0.24051141737746362, 'bathrooms'),\n",
       " (0.15424313743781393, 'view'),\n",
       " (0.10651017151891196, 'sqft_basement'),\n",
       " (0.10631261564969052, 'lat'),\n",
       " (0.09967527446504965, 'bedrooms'),\n",
       " (0.07640700617992702, 'waterfront'),\n",
       " (0.05299317367891987, 'floors'),\n",
       " (0.012852981388296603, 'renovated'),\n",
       " (0.00938278685792615, 'sqft_lot'),\n",
       " (0.007604289303056788, 'sqft_lot15'),\n",
       " (0.003455471055521131, 'zipcode'),\n",
       " (0.0024533002166823303, 'house_age'),\n",
       " (-0.0023084750420341305, 'condition')]"
      ]
     },
     "execution_count": 9,
     "metadata": {},
     "output_type": "execute_result"
    }
   ],
   "source": [
    "sorted(total, reverse=True)"
   ]
  },
  {
   "cell_type": "code",
   "execution_count": 10,
   "metadata": {},
   "outputs": [
    {
     "data": {
      "text/plain": [
       "17"
      ]
     },
     "execution_count": 10,
     "metadata": {},
     "output_type": "execute_result"
    }
   ],
   "source": [
    "len(total)"
   ]
  },
  {
   "cell_type": "code",
   "execution_count": 11,
   "metadata": {},
   "outputs": [
    {
     "data": {
      "text/plain": [
       "Index(['bathrooms', 'bedrooms', 'condition', 'floors', 'grade', 'house_age',\n",
       "       'lat', 'renovated', 'sqft_above', 'sqft_basement', 'sqft_living',\n",
       "       'sqft_living15', 'sqft_lot', 'sqft_lot15', 'view', 'waterfront',\n",
       "       'zipcode'],\n",
       "      dtype='object')"
      ]
     },
     "execution_count": 11,
     "metadata": {},
     "output_type": "execute_result"
    }
   ],
   "source": [
    "second.columns"
   ]
  },
  {
   "cell_type": "code",
   "execution_count": null,
   "metadata": {},
   "outputs": [],
   "source": []
  }
 ],
 "metadata": {
  "kernelspec": {
   "display_name": "Python 3",
   "language": "python",
   "name": "python3"
  },
  "language_info": {
   "codemirror_mode": {
    "name": "ipython",
    "version": 3
   },
   "file_extension": ".py",
   "mimetype": "text/x-python",
   "name": "python",
   "nbconvert_exporter": "python",
   "pygments_lexer": "ipython3",
   "version": "3.8.1"
  }
 },
 "nbformat": 4,
 "nbformat_minor": 4
}
