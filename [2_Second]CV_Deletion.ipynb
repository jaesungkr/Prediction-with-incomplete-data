{
 "cells": [
  {
   "cell_type": "code",
   "execution_count": 1,
   "metadata": {},
   "outputs": [],
   "source": [
    "import pandas as pd\n",
    "import numpy as np\n",
    "import matplotlib.pyplot as plt  \n",
    "import seaborn as seabornInstance \n",
    "from sklearn.model_selection import train_test_split \n",
    "from sklearn.linear_model import RidgeCV, LinearRegression\n",
    "from sklearn import metrics\n",
    "import sys\n",
    "import copy\n",
    "import statsmodels.api as sm\n",
    "pd.options.mode.chained_assignment = None\n",
    "from statsmodels.stats.outliers_influence import variance_inflation_factor\n",
    "pd.options.display.max_rows = 4000\n",
    "pd.options.display.max_seq_items = 2000\n",
    "%matplotlib inline\n",
    "\n",
    "dfTemp=pd.read_csv(r'C:\\Users\\Jaesung Park\\Desktop\\FP\\GroupProject\\kc_house_data.csv',keep_default_na=False)"
   ]
  },
  {
   "cell_type": "code",
   "execution_count": 2,
   "metadata": {},
   "outputs": [],
   "source": [
    "data = dfTemp.reindex(np.random.permutation(dfTemp.index))\n",
    "data['date'] = pd.to_datetime(data['date'])\n",
    "data = data.set_index('id')\n",
    "data.price = data.price.astype(int)\n",
    "data.bathrooms = data.bathrooms.astype(int)\n",
    "data.floors = data.floors.astype(int)\n",
    "data[\"house_age\"] = data[\"date\"].dt.year - data['yr_built']\n",
    "data['renovated'] = data['yr_renovated'].apply(lambda yr: 0 if yr == 0 else 1)\n",
    "\n",
    "data=data.drop('date', axis=1)\n",
    "data=data.drop('yr_renovated', axis=1)\n",
    "data=data.drop('yr_built', axis=1)\n",
    "\n",
    "dataset = data[data.columns.difference(['id', 'long'])]\n",
    "#X = dataset[['house_age','sqft_living','grade','condition', \n",
    "#'sqft_living15','bathrooms','view','sqft_basement','floors','waterfront',\n",
    "#'renovated','bedrooms']]\n"
   ]
  },
  {
   "cell_type": "code",
   "execution_count": 3,
   "metadata": {},
   "outputs": [],
   "source": [
    "five = [] # 1빼고 다 넣은 리스트\n",
    "for i in range(len(dataset.columns)):\n",
    "    if dataset.columns[i] not in (['price', 'bedrooms']):\n",
    "        five.append(dataset.columns[i])\n",
    "        \n",
    "fifthteen = [] # 2빼고 다 넣은 리스트\n",
    "for i in range(len(dataset.columns)):\n",
    "    if dataset.columns[i] not in (['price', 'bedrooms','view']):\n",
    "        fifthteen.append(dataset.columns[i])\n",
    "\n",
    "thirty = [] # 4빼고 다 넣은 리스트\n",
    "for i in range(len(dataset.columns)):\n",
    "    if dataset.columns[i] not in (['price', 'bedrooms','view','grade','waterfront']):\n",
    "        thirty.append(dataset.columns[i])    \n",
    "\n",
    "half = [] # 반타작\n",
    "for i in range(len(dataset.columns)):\n",
    "    if dataset.columns[i] in (['bedrooms', 'sqft_living15','bathrooms', 'view',\n",
    "       'grade', 'waterfront']):\n",
    "        half.append(dataset.columns[i])\n",
    "        \n",
    "seventy = [] # 8 in\n",
    "for i in range(len(dataset.columns)):\n",
    "    if dataset.columns[i] in (['bedrooms', 'sqft_living15','bathrooms', 'view']):\n",
    "        seventy.append(dataset.columns[i]) \n",
    "        \n",
    "eightyfive = [] # 10 in\n",
    "for i in range(len(dataset.columns)):\n",
    "    if dataset.columns[i] in (['bedrooms', 'sqft_living15']):\n",
    "        eightyfive.append(dataset.columns[i]) \n",
    "        \n",
    "ninetyfive = [] # 11 in\n",
    "for i in range(len(dataset.columns)):\n",
    "    if dataset.columns[i] in (['bedrooms']):\n",
    "        ninetyfive.append(dataset.columns[i]) \n"
   ]
  },
  {
   "cell_type": "code",
   "execution_count": 4,
   "metadata": {},
   "outputs": [],
   "source": [
    "regressor = LinearRegression(fit_intercept=True)\n",
    "\n",
    "#alphas = [0.000001, 0.00001, 0.0001, 0.001, 0.01, 0.1,0.5, 1, 10, 15, 20, 30, 40, 100]\n",
    "#regressor=RidgeCV(alphas=alphas, store_cv_values=True)\n"
   ]
  },
  {
   "cell_type": "code",
   "execution_count": 5,
   "metadata": {},
   "outputs": [
    {
     "data": {
      "text/plain": [
       "3"
      ]
     },
     "execution_count": 5,
     "metadata": {},
     "output_type": "execute_result"
    }
   ],
   "source": [
    "## exclude the lefts\n",
    "rounded = round(dataset.shape[0]/10)*10\n",
    "left = dataset.shape[0] - rounded\n",
    "left"
   ]
  },
  {
   "cell_type": "code",
   "execution_count": 6,
   "metadata": {},
   "outputs": [],
   "source": [
    "testing = dataset\n",
    "testing2 = dataset.iloc[left:]"
   ]
  },
  {
   "cell_type": "code",
   "execution_count": 7,
   "metadata": {},
   "outputs": [],
   "source": [
    "k = testing2.shape[0]\n",
    "fold = 10\n",
    "point = round(k/fold)\n",
    "mylist = []\n",
    "\n",
    "start = 0\n",
    "end= point"
   ]
  },
  {
   "cell_type": "code",
   "execution_count": 8,
   "metadata": {},
   "outputs": [],
   "source": [
    "# separating dataset into # number of folds and put each fold into list\n",
    "for i in range(fold):\n",
    "    x = testing2.iloc[start:end]\n",
    "    start = start + point\n",
    "    end = end + point\n",
    "    mylist.append(x)"
   ]
  },
  {
   "cell_type": "code",
   "execution_count": 9,
   "metadata": {},
   "outputs": [],
   "source": [
    "RidgeCV_MAE = []\n",
    "RidgeCV_MSE = []\n",
    "RidgeCV_RMSE = []\n",
    "alphasL = []\n",
    "r2_list = []\n",
    "predicted = []"
   ]
  },
  {
   "cell_type": "code",
   "execution_count": 10,
   "metadata": {},
   "outputs": [],
   "source": [
    "temp = copy.deepcopy(mylist)\n",
    "hm = ninetyfive\n",
    "hm.append('price')"
   ]
  },
  {
   "cell_type": "code",
   "execution_count": 11,
   "metadata": {},
   "outputs": [],
   "source": [
    "\n",
    "for j in range(fold):\n",
    "    mylist = copy.deepcopy(temp)\n",
    "    testing_set = mylist[j]\n",
    "    appended_data = []\n",
    "    for z in range(fold):\n",
    "        if not z == j:\n",
    "            appended_data.append(mylist[z])\n",
    "            \n",
    "    training_set = pd.concat(appended_data, ignore_index = True)\n",
    "    \n",
    "    \n",
    "\n",
    "    \n",
    "    testing_set_X = testing_set[testing.columns.difference(hm)]\n",
    "    testing_set_Y = np.log(testing_set['price'])\n",
    "    training_set_X = training_set[testing.columns.difference(hm)]\n",
    "    training_set_Y = np.log(training_set['price'])\n",
    "\n",
    "    ridge_mod = regressor.fit(training_set_X, training_set_Y)\n",
    "    #alphasL.append(ridge_mod.alpha_)\n",
    "    y_pred = regressor.predict(testing_set_X)\n",
    "    MAE = metrics.mean_absolute_error(testing_set_Y, y_pred)\n",
    "    MSE = metrics.mean_squared_error(testing_set_Y, y_pred)\n",
    "    RMSE = np.sqrt(metrics.mean_squared_error(testing_set_Y, y_pred))\n",
    "    r2 = metrics.r2_score(testing_set_Y, y_pred)\n",
    "    py = y_pred\n",
    "    \n",
    "    RidgeCV_MAE.append(MAE)\n",
    "    RidgeCV_MSE.append(MSE)\n",
    "    RidgeCV_RMSE.append(RMSE)\n",
    "    r2_list.append(r2)\n",
    "    predicted.append(py)\n"
   ]
  },
  {
   "cell_type": "code",
   "execution_count": 12,
   "metadata": {},
   "outputs": [
    {
     "data": {
      "text/plain": [
       "0.19696141948477913"
      ]
     },
     "execution_count": 12,
     "metadata": {},
     "output_type": "execute_result"
    }
   ],
   "source": [
    "np.mean(RidgeCV_MAE)"
   ]
  },
  {
   "cell_type": "code",
   "execution_count": 13,
   "metadata": {},
   "outputs": [
    {
     "data": {
      "text/plain": [
       "0.06485790972499829"
      ]
     },
     "execution_count": 13,
     "metadata": {},
     "output_type": "execute_result"
    }
   ],
   "source": [
    "np.mean(RidgeCV_MSE)"
   ]
  },
  {
   "cell_type": "code",
   "execution_count": 14,
   "metadata": {},
   "outputs": [
    {
     "data": {
      "text/plain": [
       "0.2546512576576657"
      ]
     },
     "execution_count": 14,
     "metadata": {},
     "output_type": "execute_result"
    }
   ],
   "source": [
    "np.mean(RidgeCV_RMSE)"
   ]
  },
  {
   "cell_type": "code",
   "execution_count": 15,
   "metadata": {},
   "outputs": [
    {
     "data": {
      "text/plain": [
       "[]"
      ]
     },
     "execution_count": 15,
     "metadata": {},
     "output_type": "execute_result"
    }
   ],
   "source": [
    "alphasL"
   ]
  },
  {
   "cell_type": "code",
   "execution_count": 16,
   "metadata": {},
   "outputs": [
    {
     "data": {
      "text/plain": [
       "0.7661970131507289"
      ]
     },
     "execution_count": 16,
     "metadata": {},
     "output_type": "execute_result"
    }
   ],
   "source": [
    "np.mean(r2_list)"
   ]
  },
  {
   "cell_type": "code",
   "execution_count": 17,
   "metadata": {},
   "outputs": [],
   "source": [
    "cd = np.concatenate(predicted)\n",
    "ab = testing2['price']"
   ]
  },
  {
   "cell_type": "code",
   "execution_count": 18,
   "metadata": {},
   "outputs": [
    {
     "data": {
      "image/png": "[encoded data removed]",
      "text/plain": [
       "<Figure size 432x288 with 1 Axes>"
      ]
     },
     "metadata": {
      "needs_background": "light"
     },
     "output_type": "display_data"
    }
   ],
   "source": [
    "import numpy\n",
    "bins = numpy.linspace(0, 180000, 100)\n",
    "plt.hist(ab, bins, alpha=0.5, label='True Price')\n",
    "plt.hist(cd, bins, alpha=0.5, label='Predicted')\n",
    "plt.legend(loc='upper left')\n",
    "\n",
    "plt.show()"
   ]
  },
  {
   "cell_type": "code",
   "execution_count": null,
   "metadata": {},
   "outputs": [],
   "source": []
  }
 ],
 "metadata": {
  "kernelspec": {
   "display_name": "Python 3",
   "language": "python",
   "name": "python3"
  },
  "language_info": {
   "codemirror_mode": {
    "name": "ipython",
    "version": 3
   },
   "file_extension": ".py",
   "mimetype": "text/x-python",
   "name": "python",
   "nbconvert_exporter": "python",
   "pygments_lexer": "ipython3",
   "version": "3.8.1"
  }
 },
 "nbformat": 4,
 "nbformat_minor": 4
}
