{
 "cells": [
  {
   "cell_type": "code",
   "execution_count": 17,
   "metadata": {},
   "outputs": [],
   "source": [
    "import pandas as pd\n",
    "import numpy as np\n",
    "import matplotlib.pyplot as plt  \n",
    "import seaborn as seabornInstance \n",
    "from sklearn.model_selection import train_test_split \n",
    "from sklearn.linear_model import LinearRegression\n",
    "from sklearn.neighbors import KNeighborsRegressor\n",
    "from sklearn import metrics\n",
    "import sys\n",
    "import copy\n",
    "import statsmodels.api as sm\n",
    "pd.options.mode.chained_assignment = None\n",
    "from statsmodels.stats.outliers_influence import variance_inflation_factor\n",
    "pd.options.display.max_rows = 4000\n",
    "pd.options.display.max_seq_items = 2000\n",
    "%matplotlib inline\n",
    "\n",
    "dfTemp=pd.read_csv(r'C:\\Users\\Jaesung Park\\Desktop\\FP\\GroupProject\\final.csv',keep_default_na=False)"
   ]
  },
  {
   "cell_type": "code",
   "execution_count": 18,
   "metadata": {},
   "outputs": [],
   "source": [
    "dataset = pd.get_dummies(dfTemp, drop_first=True)\n",
    "dataset = dataset[dataset.columns.difference(['PID','Order','Total Bsmt SF'])]\n",
    "# mix the dataset\n",
    "dataset = dataset.reindex(np.random.permutation(dataset.index))\n",
    "\n",
    "\n",
    "eleven = [] # 11개 빼고 다 넣은 리스트\n",
    "for i in range(len(dataset.columns)):\n",
    "    if dataset.columns[i] not in (['MS SubClass_160 ','MS SubClass_20','MS SubClass_30','MS SubClass_50','MS SubClass_60','MS SubClass_70','MS SubClass_other','Lot Area','Street_Pave','Alley_other','Bldg Type_Duplex','Bldg Type_Twnhs','Bldg Type_TwnhsE','Bldg Type_other','FirePlaces','Garage Type_BuiltIn','Garage Type_Detchd','Garage Type_other','Garage Cars','Mo Sold','Yr Sold','Sale Type_other']):\n",
    "        eleven.append(dataset.columns[i])\n",
    "        \n",
    "twentySix = [] # 26빼고 다 넣은 리스트\n",
    "for i in range(len(dataset.columns)):\n",
    "    if dataset.columns[i] not in (['MS SubClass_160 ','MS SubClass_20','MS SubClass_30','MS SubClass_50','MS SubClass_60','MS SubClass_70','MS SubClass_other','Lot Area','Street_Pave','Alley_other','Bldg Type_Duplex','Bldg Type_Twnhs','Bldg Type_TwnhsE','Bldg Type_other','FirePlaces','Garage Type_BuiltIn','Garage Type_Detchd','Garage Type_other','Garage Cars','Mo Sold','Yr Sold','Sale Type_other','Lot Shape_Reg','Lot Shape_other','Utilities_other','Lot Config_CulDSac','Lot Config_Inside','Lot Config_other','House Style_1Story','House Style_2Story','House Style_SLvl','House Style_other','Year Built','Year Remod/Add','Roof Style_Hip','Roof Style_other','Foundation_CBlock','Foundation_PConc','Foundation_other','Heating_other','Bedroom AbvGr','Kitchen AbvGr','TotRms AbvGrd','Garage Finish_RFn','Garage Finish_Unf','Garage Finish_other','Misc Feature_other','Sale Condition_Normal','Sale Condition_Partial','Sale Condition_other']):\n",
    "        twentySix.append(dataset.columns[i])\n"
   ]
  },
  {
   "cell_type": "code",
   "execution_count": 19,
   "metadata": {},
   "outputs": [],
   "source": [
    "testing = dataset\n",
    "# linear Regression\n",
    "innerRegressor = KNeighborsRegressor(n_neighbors = 10, weights = \"distance\")\n",
    "#regressor = LinearRegression(fit_intercept=True)\n",
    "regressor = LinearRegression(fit_intercept=True)"
   ]
  },
  {
   "cell_type": "code",
   "execution_count": 20,
   "metadata": {},
   "outputs": [],
   "source": [
    "## exclude the lefts\n",
    "rounded = round(testing.shape[0]/10)*10\n",
    "left = testing.shape[0] - rounded\n",
    "testing2 = testing.iloc[left:]\n",
    "\n",
    "k = testing2.shape[0]\n",
    "fold = 10\n",
    "point = round(k/fold)\n",
    "mylist = []\n",
    "\n",
    "start = 0\n",
    "end= point\n",
    "\n",
    "# separating dataset into # number of folds and put each fold into list\n",
    "for i in range(fold):\n",
    "    x = testing2.iloc[start:end]\n",
    "    start = start + point\n",
    "    end = end + point\n",
    "    mylist.append(x)"
   ]
  },
  {
   "cell_type": "code",
   "execution_count": 21,
   "metadata": {},
   "outputs": [],
   "source": [
    "RidgeCV_MAE = []\n",
    "RidgeCV_MSE = []\n",
    "RidgeCV_RMSE = []\n",
    "alphasL = []\n",
    "r2_list = []\n",
    "predicted = []\n",
    "temp = copy.deepcopy(mylist)"
   ]
  },
  {
   "cell_type": "code",
   "execution_count": 22,
   "metadata": {},
   "outputs": [],
   "source": [
    "for j in range(fold):\n",
    "    mylist = copy.deepcopy(temp)\n",
    "    testing_set = mylist[j]  \n",
    "    tempTesting_set = copy.deepcopy(testing_set)\n",
    "    appended_data = []\n",
    "    for z in range(fold):\n",
    "        if not z == j:\n",
    "            appended_data.append(mylist[z])\n",
    "    training_set = pd.concat(appended_data, ignore_index = True)\n",
    "   \n",
    "    \n",
    "     \n",
    "    #Regression imputation\n",
    "    for p in range(len(testing_set.columns)):\n",
    "        if testing_set.columns[p] in eleven:\n",
    "                kfold_testing_X =  testing_set[testing.columns.difference(eleven)]\n",
    "                kfold_testing_Y =  testing_set[testing_set.columns[p]]\n",
    "                kfold_training_X = training_set[testing.columns.difference(eleven)]\n",
    "                kfold_training_Y = training_set[testing_set.columns[p]]\n",
    "                innerRegressor.fit(kfold_training_X, kfold_training_Y)\n",
    "                kfold_pred = innerRegressor.predict(kfold_testing_X)   \n",
    "                testing_set[testing_set.columns[p]] = kfold_pred\n",
    "    \n",
    "    testing_set_X = testing_set[testing.columns.difference(['SalePrice'])]\n",
    "    testing_set_Y = tempTesting_set['SalePrice']\n",
    "    \n",
    "    training_set_X = training_set[testing.columns.difference(['SalePrice'])]\n",
    "    training_set_Y = training_set['SalePrice']\n",
    "\n",
    "    \n",
    "    regressor.fit(training_set_X, training_set_Y)\n",
    "    y_pred = regressor.predict(testing_set_X)\n",
    "    MAE = metrics.mean_absolute_error(testing_set_Y, y_pred)\n",
    "    MSE = metrics.mean_squared_error(testing_set_Y, y_pred)\n",
    "    RMSE = np.sqrt(metrics.mean_squared_error(testing_set_Y, y_pred))\n",
    "    r2 = metrics.r2_score(testing_set_Y, y_pred)\n",
    "    py = y_pred\n",
    "    \n",
    "    RidgeCV_MAE.append(MAE)\n",
    "    RidgeCV_MSE.append(MSE)\n",
    "    RidgeCV_RMSE.append(RMSE)\n",
    "    r2_list.append(r2)\n",
    "    predicted.append(py)\n"
   ]
  },
  {
   "cell_type": "code",
   "execution_count": 23,
   "metadata": {},
   "outputs": [
    {
     "data": {
      "text/plain": [
       "48836.52043827997"
      ]
     },
     "execution_count": 23,
     "metadata": {},
     "output_type": "execute_result"
    }
   ],
   "source": [
    "np.mean(RidgeCV_MAE)"
   ]
  },
  {
   "cell_type": "code",
   "execution_count": 24,
   "metadata": {},
   "outputs": [
    {
     "data": {
      "text/plain": [
       "4869597535.948911"
      ]
     },
     "execution_count": 24,
     "metadata": {},
     "output_type": "execute_result"
    }
   ],
   "source": [
    "np.mean(RidgeCV_MSE)"
   ]
  },
  {
   "cell_type": "code",
   "execution_count": 25,
   "metadata": {},
   "outputs": [
    {
     "data": {
      "text/plain": [
       "69575.07577111066"
      ]
     },
     "execution_count": 25,
     "metadata": {},
     "output_type": "execute_result"
    }
   ],
   "source": [
    "np.mean(RidgeCV_RMSE)"
   ]
  },
  {
   "cell_type": "code",
   "execution_count": 26,
   "metadata": {},
   "outputs": [
    {
     "data": {
      "text/plain": [
       "0.23277005696395917"
      ]
     },
     "execution_count": 26,
     "metadata": {},
     "output_type": "execute_result"
    }
   ],
   "source": [
    "np.mean(r2_list)"
   ]
  },
  {
   "cell_type": "code",
   "execution_count": null,
   "metadata": {},
   "outputs": [],
   "source": []
  }
 ],
 "metadata": {
  "kernelspec": {
   "display_name": "Python 3",
   "language": "python",
   "name": "python3"
  },
  "language_info": {
   "codemirror_mode": {
    "name": "ipython",
    "version": 3
   },
   "file_extension": ".py",
   "mimetype": "text/x-python",
   "name": "python",
   "nbconvert_exporter": "python",
   "pygments_lexer": "ipython3",
   "version": "3.8.1"
  }
 },
 "nbformat": 4,
 "nbformat_minor": 4
}
