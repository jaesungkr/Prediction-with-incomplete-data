{
 "cells": [
  {
   "cell_type": "code",
   "execution_count": 1,
   "metadata": {},
   "outputs": [],
   "source": [
    "import pandas as pd\n",
    "import numpy as np\n",
    "import matplotlib.pyplot as plt  \n",
    "import seaborn as seabornInstance \n",
    "from sklearn.model_selection import train_test_split \n",
    "from sklearn.linear_model import RidgeCV, LinearRegression\n",
    "from sklearn import metrics\n",
    "import sys\n",
    "import copy\n",
    "import statsmodels.api as sm\n",
    "pd.options.mode.chained_assignment = None\n",
    "from statsmodels.stats.outliers_influence import variance_inflation_factor\n",
    "pd.options.display.max_rows = 4000\n",
    "pd.options.display.max_seq_items = 2000\n",
    "%matplotlib inline\n",
    "\n",
    "dfTemp=pd.read_csv(r'C:\\Users\\Jaesung Park\\Desktop\\FP\\GroupProject\\kc_house_data.csv',keep_default_na=False)"
   ]
  },
  {
   "cell_type": "code",
   "execution_count": 2,
   "metadata": {},
   "outputs": [],
   "source": [
    "dfTemp=dfTemp.head(4000)\n",
    "data= dfTemp"
   ]
  },
  {
   "cell_type": "code",
   "execution_count": 3,
   "metadata": {},
   "outputs": [],
   "source": [
    "data['date'] = pd.to_datetime(data['date'])\n",
    "data = data.set_index('id')\n",
    "data.price = data.price.astype(int)\n",
    "data.bathrooms = data.bathrooms.astype(int)\n",
    "data.floors = data.floors.astype(int)\n",
    "data[\"house_age\"] = data[\"date\"].dt.year - data['yr_built']\n",
    "data['renovated'] = data['yr_renovated'].apply(lambda yr: 0 if yr == 0 else 1)\n",
    "\n",
    "data=data.drop('date', axis=1)\n",
    "data=data.drop('yr_renovated', axis=1)\n",
    "data=data.drop('yr_built', axis=1)\n",
    "\n",
    "dataset = data[data.columns.difference(['id', 'long'])]\n",
    "#X = dataset[['house_age','sqft_living','grade','condition', \n",
    "#'sqft_living15','bathrooms','view','sqft_basement','floors','waterfront',\n",
    "#'renovated','bedrooms']]\n"
   ]
  },
  {
   "cell_type": "code",
   "execution_count": 4,
   "metadata": {},
   "outputs": [],
   "source": [
    "dataset = dataset[~dataset.index.duplicated()] "
   ]
  },
  {
   "cell_type": "code",
   "execution_count": 5,
   "metadata": {},
   "outputs": [],
   "source": [
    "# mix the dataset\n",
    "dataset = dataset.reindex(np.random.permutation(dataset.index))\n",
    "\n",
    "five = [] # 1빼고 다 넣은 리스트\n",
    "for i in range(len(dataset.columns)):\n",
    "    if dataset.columns[i] not in (['bedrooms']):\n",
    "        five.append(dataset.columns[i])\n",
    "        \n",
    "fifthteen = [] # 2빼고 다 넣은 리스트\n",
    "for i in range(len(dataset.columns)):\n",
    "    if dataset.columns[i] not in (['bedrooms','view']):\n",
    "        fifthteen.append(dataset.columns[i])\n",
    "\n",
    "thirty = [] # 4빼고 다 넣은 리스트\n",
    "for i in range(len(dataset.columns)):\n",
    "    if dataset.columns[i] not in (['bedrooms','view','grade','waterfront']):\n",
    "        thirty.append(dataset.columns[i])    \n",
    "\n",
    "half = [] # 반타작\n",
    "for i in range(len(dataset.columns)):\n",
    "    if dataset.columns[i] in (['price','bedrooms', 'sqft_living15','bathrooms', 'view',\n",
    "       'grade', 'waterfront']):\n",
    "        half.append(dataset.columns[i])\n",
    "        \n",
    "seventy = [] # 8 in\n",
    "for i in range(len(dataset.columns)):\n",
    "    if dataset.columns[i] in (['price','bedrooms', 'sqft_living15','bathrooms', 'view']):\n",
    "        seventy.append(dataset.columns[i]) \n",
    "        \n",
    "eightyfive = [] # 10 in\n",
    "for i in range(len(dataset.columns)):\n",
    "    if dataset.columns[i] in (['price','bedrooms', 'sqft_living15']):\n",
    "        eightyfive.append(dataset.columns[i]) \n",
    "        \n",
    "ninetyfive = [] # 11 in\n",
    "for i in range(len(dataset.columns)):\n",
    "    if dataset.columns[i] in (['price','bedrooms']):\n",
    "        ninetyfive.append(dataset.columns[i]) \n",
    "\n",
    "\n"
   ]
  },
  {
   "cell_type": "code",
   "execution_count": 6,
   "metadata": {},
   "outputs": [],
   "source": [
    "testing = dataset\n",
    "# linear Regression\n",
    "regressor = LinearRegression(fit_intercept=True)\n"
   ]
  },
  {
   "cell_type": "code",
   "execution_count": 7,
   "metadata": {},
   "outputs": [
    {
     "data": {
      "text/plain": [
       "3966"
      ]
     },
     "execution_count": 7,
     "metadata": {},
     "output_type": "execute_result"
    }
   ],
   "source": [
    "testing.shape[0]"
   ]
  },
  {
   "cell_type": "code",
   "execution_count": 8,
   "metadata": {},
   "outputs": [],
   "source": [
    "## exclude the lefts\n",
    "rounded = round(testing.shape[0]/10)*10\n",
    "left = testing.shape[0] - rounded\n",
    "if left < 0:\n",
    "    left = abs(left)\n",
    "testing2 = testing.iloc[left:]\n",
    "\n",
    "k = testing2.shape[0]\n",
    "fold = 10\n",
    "point = round(k/fold)\n",
    "mylist = []\n",
    "\n",
    "start = 0\n",
    "end= point\n",
    "\n",
    "# separating dataset into # number of folds and put each fold into list\n",
    "for i in range(fold):\n",
    "    x = testing2.iloc[start:end]\n",
    "    start = start + point\n",
    "    end = end + point\n",
    "    mylist.append(x)"
   ]
  },
  {
   "cell_type": "code",
   "execution_count": 9,
   "metadata": {},
   "outputs": [],
   "source": [
    "KNN_MAE = []\n",
    "KNN_MSE = []\n",
    "KNN_RMSE = []\n",
    "r2_list = []\n",
    "temp = copy.deepcopy(mylist)\n",
    "fffinal = []"
   ]
  },
  {
   "cell_type": "code",
   "execution_count": 10,
   "metadata": {},
   "outputs": [],
   "source": [
    "#aaa= testing_set.iloc[3].to_numpy()\n",
    "def dist(x,y):\n",
    "    return np.sqrt(np.sum((x-y)**2))\n"
   ]
  },
  {
   "cell_type": "code",
   "execution_count": 11,
   "metadata": {},
   "outputs": [],
   "source": [
    "hm = ninetyfive\n",
    "flag = 0\n",
    "iflag = 0\n",
    "trueFalse = []\n",
    "# L is K value for KNN\n",
    "L = 5\n",
    "for j in range(fold):\n",
    "    predicted_MAE = []\n",
    "    predicted_MSE = []\n",
    "    predicted_RMSE = []\n",
    "    predicted_r2 = []\n",
    "    mylist = copy.deepcopy(temp)\n",
    "    testing_set = mylist[j]\n",
    "    appended_data = []\n",
    "    euclidean_list = []\n",
    "    for z in range(fold):\n",
    "        if not z == j:\n",
    "            appended_data.append(mylist[z])\n",
    "    training_set = pd.concat(appended_data, ignore_index = True)\n",
    "    #training and testing set is created by each fold\n",
    "    if flag == 0:\n",
    "        for p in range(len(testing_set.columns)):\n",
    "            # putting false to unknown columns, run only one time\n",
    "            if testing_set.columns[p] not in hm:\n",
    "                trueFalse.append(True)\n",
    "            else:\n",
    "                trueFalse.append(False)\n",
    "        finalTF = np.array(trueFalse)\n",
    "        flag = 1\n",
    "        \n",
    "    nptraining_set = training_set.to_numpy() \n",
    "    nptesting_set = testing_set.to_numpy()\n",
    "    knownTraining_set = nptraining_set[:,finalTF]\n",
    "    knownTesting_set = nptesting_set[:,finalTF]\n",
    "    \n",
    "    for m in range(L): #round\n",
    "        for q in range(len(knownTesting_set)):#row for the testing set\n",
    "            euclidean_list = []\n",
    "            for qq in range(len(knownTraining_set)): #row for the training set\n",
    "                euc = dist(knownTesting_set[q], knownTraining_set[qq])\n",
    "                euclidean_list.append(euc)\n",
    "            \n",
    "            # The below lamda method is from stackoverflow, basically it's telling the original index number while sorting\n",
    "            eu_index = sorted(range(len(euclidean_list)), key=lambda k: euclidean_list[k])\n",
    "            for z in range(len(testing_set.columns)): # column\n",
    "                if testing_set.columns[z] in hm and testing_set.columns[z] != 'price':\n",
    "                    testing_set.iat[q,z] = training_set.iat[eu_index[m],z]\n",
    "                \n",
    "                    \n",
    "        \n",
    "        testing_set_X = testing_set[testing.columns.difference(['price'])]\n",
    "        testing_set_Y = np.log(testing_set['price'])\n",
    "        training_set_X = training_set[testing.columns.difference(['price'])]\n",
    "        training_set_Y = np.log(training_set['price'])\n",
    "        \n",
    "        regressor.fit(training_set_X, training_set_Y)\n",
    "        y_pred = regressor.predict(testing_set_X)\n",
    "        MAE = metrics.mean_absolute_error(testing_set_Y, y_pred)\n",
    "        MSE = metrics.mean_squared_error(testing_set_Y, y_pred)\n",
    "        RMSE = np.sqrt(metrics.mean_squared_error(testing_set_Y, y_pred))\n",
    "        r2 = metrics.r2_score(testing_set_Y, y_pred)\n",
    "       \n",
    "        predicted_MAE.append(MAE)\n",
    "        predicted_MSE.append(MSE)\n",
    "        predicted_RMSE.append(RMSE)\n",
    "        predicted_r2.append(r2)\n",
    "       \n",
    "\n",
    "    predicted_MAE.sort()\n",
    "    predicted_MSE.sort()\n",
    "    predicted_RMSE.sort()\n",
    "    predicted_r2.sort(reverse=True)\n",
    "\n",
    "    KNN_MAE.append(predicted_MAE[0])\n",
    "    KNN_MSE.append(predicted_MSE[0])\n",
    "    KNN_RMSE.append(predicted_RMSE[0])\n",
    "    r2_list.append(predicted_r2[0])\n",
    "        \n",
    "\n",
    "                \n",
    "        \n",
    "\n",
    "\n",
    "    \n",
    "    \n"
   ]
  },
  {
   "cell_type": "code",
   "execution_count": 12,
   "metadata": {},
   "outputs": [
    {
     "data": {
      "text/html": [
       "<div>\n",
       "<style scoped>\n",
       "    .dataframe tbody tr th:only-of-type {\n",
       "        vertical-align: middle;\n",
       "    }\n",
       "\n",
       "    .dataframe tbody tr th {\n",
       "        vertical-align: top;\n",
       "    }\n",
       "\n",
       "    .dataframe thead th {\n",
       "        text-align: right;\n",
       "    }\n",
       "</style>\n",
       "<table border=\"1\" class=\"dataframe\">\n",
       "  <thead>\n",
       "    <tr style=\"text-align: right;\">\n",
       "      <th></th>\n",
       "      <th>Coefficient</th>\n",
       "    </tr>\n",
       "  </thead>\n",
       "  <tbody>\n",
       "    <tr>\n",
       "      <th>bathrooms</th>\n",
       "      <td>5.285967e-02</td>\n",
       "    </tr>\n",
       "    <tr>\n",
       "      <th>bedrooms</th>\n",
       "      <td>-8.158341e-03</td>\n",
       "    </tr>\n",
       "    <tr>\n",
       "      <th>condition</th>\n",
       "      <td>6.526124e-02</td>\n",
       "    </tr>\n",
       "    <tr>\n",
       "      <th>floors</th>\n",
       "      <td>6.430500e-02</td>\n",
       "    </tr>\n",
       "    <tr>\n",
       "      <th>grade</th>\n",
       "      <td>1.659163e-01</td>\n",
       "    </tr>\n",
       "    <tr>\n",
       "      <th>house_age</th>\n",
       "      <td>3.938746e-03</td>\n",
       "    </tr>\n",
       "    <tr>\n",
       "      <th>lat</th>\n",
       "      <td>1.401951e+00</td>\n",
       "    </tr>\n",
       "    <tr>\n",
       "      <th>renovated</th>\n",
       "      <td>8.599471e-02</td>\n",
       "    </tr>\n",
       "    <tr>\n",
       "      <th>sqft_above</th>\n",
       "      <td>3.997106e-05</td>\n",
       "    </tr>\n",
       "    <tr>\n",
       "      <th>sqft_basement</th>\n",
       "      <td>5.704784e-05</td>\n",
       "    </tr>\n",
       "    <tr>\n",
       "      <th>sqft_living</th>\n",
       "      <td>9.701890e-05</td>\n",
       "    </tr>\n",
       "    <tr>\n",
       "      <th>sqft_living15</th>\n",
       "      <td>1.046286e-04</td>\n",
       "    </tr>\n",
       "    <tr>\n",
       "      <th>sqft_lot</th>\n",
       "      <td>4.729697e-07</td>\n",
       "    </tr>\n",
       "    <tr>\n",
       "      <th>sqft_lot15</th>\n",
       "      <td>-5.227701e-07</td>\n",
       "    </tr>\n",
       "    <tr>\n",
       "      <th>view</th>\n",
       "      <td>6.104390e-02</td>\n",
       "    </tr>\n",
       "    <tr>\n",
       "      <th>waterfront</th>\n",
       "      <td>4.322744e-01</td>\n",
       "    </tr>\n",
       "    <tr>\n",
       "      <th>zipcode</th>\n",
       "      <td>-5.733509e-04</td>\n",
       "    </tr>\n",
       "  </tbody>\n",
       "</table>\n",
       "</div>"
      ],
      "text/plain": [
       "                Coefficient\n",
       "bathrooms      5.285967e-02\n",
       "bedrooms      -8.158341e-03\n",
       "condition      6.526124e-02\n",
       "floors         6.430500e-02\n",
       "grade          1.659163e-01\n",
       "house_age      3.938746e-03\n",
       "lat            1.401951e+00\n",
       "renovated      8.599471e-02\n",
       "sqft_above     3.997106e-05\n",
       "sqft_basement  5.704784e-05\n",
       "sqft_living    9.701890e-05\n",
       "sqft_living15  1.046286e-04\n",
       "sqft_lot       4.729697e-07\n",
       "sqft_lot15    -5.227701e-07\n",
       "view           6.104390e-02\n",
       "waterfront     4.322744e-01\n",
       "zipcode       -5.733509e-04"
      ]
     },
     "execution_count": 12,
     "metadata": {},
     "output_type": "execute_result"
    }
   ],
   "source": [
    "coeff_df = pd.DataFrame(regressor.coef_, training_set_X.columns, columns=['Coefficient'])  \n",
    "coeff_df"
   ]
  },
  {
   "cell_type": "code",
   "execution_count": 13,
   "metadata": {
    "scrolled": false
   },
   "outputs": [
    {
     "data": {
      "text/plain": [
       "0.7718444372809306"
      ]
     },
     "execution_count": 13,
     "metadata": {},
     "output_type": "execute_result"
    }
   ],
   "source": [
    "np.mean(r2_list)"
   ]
  },
  {
   "cell_type": "code",
   "execution_count": 14,
   "metadata": {},
   "outputs": [],
   "source": [
    "#!jt -l"
   ]
  },
  {
   "cell_type": "code",
   "execution_count": 15,
   "metadata": {},
   "outputs": [],
   "source": [
    "#!jt -t grade3 -T -N -f roboto -fs 12"
   ]
  },
  {
   "cell_type": "code",
   "execution_count": 16,
   "metadata": {},
   "outputs": [
    {
     "data": {
      "text/plain": [
       "0.19891620242086844"
      ]
     },
     "execution_count": 16,
     "metadata": {},
     "output_type": "execute_result"
    }
   ],
   "source": [
    "np.mean(KNN_MAE)"
   ]
  },
  {
   "cell_type": "code",
   "execution_count": 17,
   "metadata": {},
   "outputs": [
    {
     "data": {
      "text/plain": [
       "0.06545594798610402"
      ]
     },
     "execution_count": 17,
     "metadata": {},
     "output_type": "execute_result"
    }
   ],
   "source": [
    "np.mean(KNN_MSE)"
   ]
  },
  {
   "cell_type": "code",
   "execution_count": 18,
   "metadata": {},
   "outputs": [
    {
     "data": {
      "text/plain": [
       "0.25558586204423916"
      ]
     },
     "execution_count": 18,
     "metadata": {},
     "output_type": "execute_result"
    }
   ],
   "source": [
    "np.mean(KNN_RMSE)"
   ]
  },
  {
   "cell_type": "code",
   "execution_count": 19,
   "metadata": {},
   "outputs": [],
   "source": [
    "#another way\n",
    "#testing_set.iat[0,0] = 5\n",
    "\n",
    "testing_set[testing_set.columns[0]].values[0] = 1100"
   ]
  },
  {
   "cell_type": "code",
   "execution_count": null,
   "metadata": {},
   "outputs": [],
   "source": []
  }
 ],
 "metadata": {
  "kernelspec": {
   "display_name": "Python 3",
   "language": "python",
   "name": "python3"
  },
  "language_info": {
   "codemirror_mode": {
    "name": "ipython",
    "version": 3
   },
   "file_extension": ".py",
   "mimetype": "text/x-python",
   "name": "python",
   "nbconvert_exporter": "python",
   "pygments_lexer": "ipython3",
   "version": "3.8.1"
  }
 },
 "nbformat": 4,
 "nbformat_minor": 4
}
